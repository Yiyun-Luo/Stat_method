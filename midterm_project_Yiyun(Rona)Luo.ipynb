{
 "cells": [
  {
   "cell_type": "markdown",
   "metadata": {},
   "source": [
    "# Midterm project--Yiyun (Rona) Luo"
   ]
  },
  {
   "cell_type": "code",
   "execution_count": 1,
   "metadata": {},
   "outputs": [],
   "source": [
    "import pandas as pd\n",
    "import glob\n",
    "import numpy as np\n",
    "import matplotlib.pyplot as plt"
   ]
  },
  {
   "cell_type": "code",
   "execution_count": 2,
   "metadata": {},
   "outputs": [
    {
     "name": "stdout",
     "output_type": "stream",
     "text": [
      "/Users/rona/Downloads/STAT PROJECT\n"
     ]
    }
   ],
   "source": [
    "import os\n",
    "print(os.getcwd())"
   ]
  },
  {
   "cell_type": "code",
   "execution_count": 3,
   "metadata": {},
   "outputs": [],
   "source": [
    "path = r'/Users/rona/Downloads/STAT PROJECT/amex-nyse-nasdaq-stock-histories/fh_20190420/full_history'\n",
    "all_files = glob.glob(path + '/*.csv')\n",
    "list_df = [pd.read_csv(f, index_col=0, usecols=['date','volume','adjclose']) for f in all_files]\n"
   ]
  },
  {
   "cell_type": "code",
   "execution_count": 4,
   "metadata": {},
   "outputs": [],
   "source": [
    "for i in range(len(list_df)):\n",
    "    list_df[i]=list_df[i].sort_index()"
   ]
  },
  {
   "cell_type": "code",
   "execution_count": 5,
   "metadata": {},
   "outputs": [],
   "source": [
    "filename=[]\n",
    "dirs= os.listdir(path)\n",
    "for file in dirs:\n",
    "     filename.append(file.replace('.csv',''))"
   ]
  },
  {
   "cell_type": "code",
   "execution_count": 6,
   "metadata": {},
   "outputs": [],
   "source": [
    "for i in range(len(list_df)):\n",
    "    list_df[i].columns=[filename[i]+'_volume',filename[i]+'_adjclose']    \n",
    "    \n",
    "#dfs = {'f'+str(i+1) : pd.read_csv(f) for i,f in enumerate(list_of_files)}"
   ]
  },
  {
   "cell_type": "code",
   "execution_count": 7,
   "metadata": {},
   "outputs": [],
   "source": [
    "list_df_10yr=[]\n",
    "for i in range(len(list_df)):\n",
    "    if len(list_df[i].loc['2009-04-16':'2019-04-18'])==2520:\n",
    "        list_df_10yr.append(list_df[i].loc['2009-04-16':'2019-04-18']) "
   ]
  },
  {
   "cell_type": "code",
   "execution_count": 8,
   "metadata": {},
   "outputs": [],
   "source": [
    "list_v_10=[]\n",
    "for i in range(len(list_df_10yr)):\n",
    "    if sum(list_df_10yr[i][list_df_10yr[i].columns[0]]<1000)/2520 <=0.05: #no more than 5% of volume less than 1000\n",
    "        list_v_10.append(list_df_10yr[i])\n",
    "        "
   ]
  },
  {
   "cell_type": "code",
   "execution_count": 9,
   "metadata": {},
   "outputs": [
    {
     "name": "stdout",
     "output_type": "stream",
     "text": [
      "3787 3205\n"
     ]
    }
   ],
   "source": [
    "print(len(list_df_10yr),len(list_v_10))"
   ]
  },
  {
   "cell_type": "code",
   "execution_count": 10,
   "metadata": {},
   "outputs": [],
   "source": [
    "#less then 5% missing value in price\n",
    "#missing_values = ['n/a','na','','NA','N/A']\n",
    "list_m_10yr=[]\n",
    "for j in range(len(list_v_10)):\n",
    "    if (sum(list_v_10[j][list_v_10[j].columns[1]]==0)+ \n",
    "        sum(list_v_10[j][list_v_10[j].columns[1]].isnull()))/2520<0.05:\n",
    "        list_m_10yr.append(list_v_10[j])"
   ]
  },
  {
   "cell_type": "code",
   "execution_count": 11,
   "metadata": {},
   "outputs": [
    {
     "data": {
      "text/plain": [
       "3205"
      ]
     },
     "execution_count": 11,
     "metadata": {},
     "output_type": "execute_result"
    }
   ],
   "source": [
    "len(list_m_10yr)"
   ]
  },
  {
   "cell_type": "code",
   "execution_count": 12,
   "metadata": {},
   "outputs": [],
   "source": [
    "clean_list= list_m_10yr.copy()\n",
    "import re"
   ]
  },
  {
   "cell_type": "code",
   "execution_count": 13,
   "metadata": {},
   "outputs": [
    {
     "name": "stdout",
     "output_type": "stream",
     "text": [
      "(2520, 6410)\n",
      "0\n"
     ]
    }
   ],
   "source": [
    "all_df = pd.concat(list_m_10yr, axis=1, join='inner')\n",
    "print(all_df.shape)\n",
    "print(all_df.isnull().sum().sum())\n"
   ]
  },
  {
   "cell_type": "code",
   "execution_count": 15,
   "metadata": {},
   "outputs": [
    {
     "name": "stdout",
     "output_type": "stream",
     "text": [
      "(2520, 3205)\n"
     ]
    }
   ],
   "source": [
    "price_df= all_df[all_df.columns.drop(list(all_df.filter(regex='volume')))]\n",
    "print(price_df.shape)\n"
   ]
  },
  {
   "cell_type": "code",
   "execution_count": 16,
   "metadata": {},
   "outputs": [
    {
     "data": {
      "text/html": [
       "<div>\n",
       "<style scoped>\n",
       "    .dataframe tbody tr th:only-of-type {\n",
       "        vertical-align: middle;\n",
       "    }\n",
       "\n",
       "    .dataframe tbody tr th {\n",
       "        vertical-align: top;\n",
       "    }\n",
       "\n",
       "    .dataframe thead th {\n",
       "        text-align: right;\n",
       "    }\n",
       "</style>\n",
       "<table border=\"1\" class=\"dataframe\">\n",
       "  <thead>\n",
       "    <tr style=\"text-align: right;\">\n",
       "      <th></th>\n",
       "      <th>CSCO_adjclose</th>\n",
       "      <th>BIOS_adjclose</th>\n",
       "      <th>NZF_adjclose</th>\n",
       "      <th>UNT_adjclose</th>\n",
       "      <th>GPL_adjclose</th>\n",
       "      <th>SBGI_adjclose</th>\n",
       "      <th>UFCS_adjclose</th>\n",
       "      <th>BNY_adjclose</th>\n",
       "      <th>PPA_adjclose</th>\n",
       "      <th>ISSC_adjclose</th>\n",
       "      <th>...</th>\n",
       "      <th>SPTL_adjclose</th>\n",
       "      <th>LAC_adjclose</th>\n",
       "      <th>BLK_adjclose</th>\n",
       "      <th>BMO_adjclose</th>\n",
       "      <th>NXC_adjclose</th>\n",
       "      <th>SPXX_adjclose</th>\n",
       "      <th>PPL_adjclose</th>\n",
       "      <th>BWEN_adjclose</th>\n",
       "      <th>TIVO_adjclose</th>\n",
       "      <th>KEM_adjclose</th>\n",
       "    </tr>\n",
       "    <tr>\n",
       "      <th>date</th>\n",
       "      <th></th>\n",
       "      <th></th>\n",
       "      <th></th>\n",
       "      <th></th>\n",
       "      <th></th>\n",
       "      <th></th>\n",
       "      <th></th>\n",
       "      <th></th>\n",
       "      <th></th>\n",
       "      <th></th>\n",
       "      <th></th>\n",
       "      <th></th>\n",
       "      <th></th>\n",
       "      <th></th>\n",
       "      <th></th>\n",
       "      <th></th>\n",
       "      <th></th>\n",
       "      <th></th>\n",
       "      <th></th>\n",
       "      <th></th>\n",
       "      <th></th>\n",
       "    </tr>\n",
       "  </thead>\n",
       "  <tbody>\n",
       "    <tr>\n",
       "      <th>2009-04-16</th>\n",
       "      <td>14.295314</td>\n",
       "      <td>2.49</td>\n",
       "      <td>6.303655</td>\n",
       "      <td>27.700001</td>\n",
       "      <td>0.38</td>\n",
       "      <td>0.801760</td>\n",
       "      <td>15.413058</td>\n",
       "      <td>6.772310</td>\n",
       "      <td>11.458401</td>\n",
       "      <td>3.979697</td>\n",
       "      <td>...</td>\n",
       "      <td>21.832855</td>\n",
       "      <td>2.65</td>\n",
       "      <td>104.945930</td>\n",
       "      <td>19.379614</td>\n",
       "      <td>7.507971</td>\n",
       "      <td>4.858509</td>\n",
       "      <td>16.423471</td>\n",
       "      <td>78.199997</td>\n",
       "      <td>17.364796</td>\n",
       "      <td>1.313218</td>\n",
       "    </tr>\n",
       "    <tr>\n",
       "      <th>2009-04-17</th>\n",
       "      <td>14.224154</td>\n",
       "      <td>2.58</td>\n",
       "      <td>6.373877</td>\n",
       "      <td>28.629999</td>\n",
       "      <td>0.36</td>\n",
       "      <td>0.831455</td>\n",
       "      <td>15.246078</td>\n",
       "      <td>6.828747</td>\n",
       "      <td>11.502608</td>\n",
       "      <td>3.979697</td>\n",
       "      <td>...</td>\n",
       "      <td>21.501213</td>\n",
       "      <td>2.70</td>\n",
       "      <td>104.423515</td>\n",
       "      <td>19.740692</td>\n",
       "      <td>7.532633</td>\n",
       "      <td>4.867745</td>\n",
       "      <td>16.575489</td>\n",
       "      <td>83.199997</td>\n",
       "      <td>17.408474</td>\n",
       "      <td>1.343064</td>\n",
       "    </tr>\n",
       "    <tr>\n",
       "      <th>2009-04-20</th>\n",
       "      <td>13.686498</td>\n",
       "      <td>2.52</td>\n",
       "      <td>6.363070</td>\n",
       "      <td>25.549999</td>\n",
       "      <td>0.37</td>\n",
       "      <td>0.809184</td>\n",
       "      <td>13.815851</td>\n",
       "      <td>6.935977</td>\n",
       "      <td>11.087065</td>\n",
       "      <td>3.847273</td>\n",
       "      <td>...</td>\n",
       "      <td>21.829132</td>\n",
       "      <td>2.75</td>\n",
       "      <td>94.950691</td>\n",
       "      <td>18.337828</td>\n",
       "      <td>7.557287</td>\n",
       "      <td>4.692247</td>\n",
       "      <td>16.530445</td>\n",
       "      <td>78.400002</td>\n",
       "      <td>16.779568</td>\n",
       "      <td>1.432602</td>\n",
       "    </tr>\n",
       "  </tbody>\n",
       "</table>\n",
       "<p>3 rows × 3205 columns</p>\n",
       "</div>"
      ],
      "text/plain": [
       "            CSCO_adjclose  BIOS_adjclose  NZF_adjclose  UNT_adjclose  \\\n",
       "date                                                                   \n",
       "2009-04-16      14.295314           2.49      6.303655     27.700001   \n",
       "2009-04-17      14.224154           2.58      6.373877     28.629999   \n",
       "2009-04-20      13.686498           2.52      6.363070     25.549999   \n",
       "\n",
       "            GPL_adjclose  SBGI_adjclose  UFCS_adjclose  BNY_adjclose  \\\n",
       "date                                                                   \n",
       "2009-04-16          0.38       0.801760      15.413058      6.772310   \n",
       "2009-04-17          0.36       0.831455      15.246078      6.828747   \n",
       "2009-04-20          0.37       0.809184      13.815851      6.935977   \n",
       "\n",
       "            PPA_adjclose  ISSC_adjclose      ...       SPTL_adjclose  \\\n",
       "date                                         ...                       \n",
       "2009-04-16     11.458401       3.979697      ...           21.832855   \n",
       "2009-04-17     11.502608       3.979697      ...           21.501213   \n",
       "2009-04-20     11.087065       3.847273      ...           21.829132   \n",
       "\n",
       "            LAC_adjclose  BLK_adjclose  BMO_adjclose  NXC_adjclose  \\\n",
       "date                                                                 \n",
       "2009-04-16          2.65    104.945930     19.379614      7.507971   \n",
       "2009-04-17          2.70    104.423515     19.740692      7.532633   \n",
       "2009-04-20          2.75     94.950691     18.337828      7.557287   \n",
       "\n",
       "            SPXX_adjclose  PPL_adjclose  BWEN_adjclose  TIVO_adjclose  \\\n",
       "date                                                                    \n",
       "2009-04-16       4.858509     16.423471      78.199997      17.364796   \n",
       "2009-04-17       4.867745     16.575489      83.199997      17.408474   \n",
       "2009-04-20       4.692247     16.530445      78.400002      16.779568   \n",
       "\n",
       "            KEM_adjclose  \n",
       "date                      \n",
       "2009-04-16      1.313218  \n",
       "2009-04-17      1.343064  \n",
       "2009-04-20      1.432602  \n",
       "\n",
       "[3 rows x 3205 columns]"
      ]
     },
     "execution_count": 16,
     "metadata": {},
     "output_type": "execute_result"
    }
   ],
   "source": [
    "price_df.head(3)\n"
   ]
  },
  {
   "cell_type": "code",
   "execution_count": 31,
   "metadata": {},
   "outputs": [],
   "source": [
    "#logre_df=np.log(price_df/price_df.shift())\n"
   ]
  },
  {
   "cell_type": "code",
   "execution_count": 17,
   "metadata": {
    "scrolled": true
   },
   "outputs": [],
   "source": [
    "import seaborn as sns\n",
    "#clean_price_df['HYD_adjclose'].plot()\n"
   ]
  },
  {
   "cell_type": "code",
   "execution_count": 567,
   "metadata": {},
   "outputs": [],
   "source": [
    "#len(price_df.index[price_df['CSCO_adjclose'].pct_change().abs().ge(0.5)])"
   ]
  },
  {
   "cell_type": "code",
   "execution_count": 18,
   "metadata": {},
   "outputs": [],
   "source": [
    "def ts_clean(s):\n",
    "    start_ts = s[s.notna()].index[0]\n",
    "    end_ts = s[s.notna()].index[-1]\n",
    "    s = s.loc[start_ts:end_ts]\n",
    "    s = s.where(s.pct_change().abs().ge(0.5)==False,np.nan)\n",
    "    s = s.interpolate()\n",
    "    #s = s.fillna(0)\n",
    "    return s"
   ]
  },
  {
   "cell_type": "code",
   "execution_count": 593,
   "metadata": {},
   "outputs": [],
   "source": [
    "# price_df['ITRN_adjclose'].where(~(abs(price_df['ITRN_adjclose']) > (price_df['ITRN_adjclose'].rolling(center=False,window=5).mean() + (price_df['NZF_adjclose'].rolling(center=False,window=5,min_periods = 3).std() * 2))),np.nan)\n",
    "# print(price_df['ITRN_adjclose'].interpolate(method='polynomial', order=4))"
   ]
  },
  {
   "cell_type": "code",
   "execution_count": 19,
   "metadata": {},
   "outputs": [
    {
     "name": "stdout",
     "output_type": "stream",
     "text": [
      "CPU times: user 6.57 s, sys: 37.5 ms, total: 6.61 s\n",
      "Wall time: 6.67 s\n"
     ]
    }
   ],
   "source": [
    "%%time\n",
    "output = []\n",
    "for series in price_df.columns:\n",
    "    cleaned_series = ts_clean(price_df[series])\n",
    "    output.append(cleaned_series)\n",
    "    "
   ]
  },
  {
   "cell_type": "code",
   "execution_count": 20,
   "metadata": {},
   "outputs": [],
   "source": [
    "clean_price_df = pd.concat(output,ignore_index=False,keys=price_df.columns,axis=1)\n",
    "#clean_price_df"
   ]
  },
  {
   "cell_type": "code",
   "execution_count": 21,
   "metadata": {},
   "outputs": [
    {
     "name": "stderr",
     "output_type": "stream",
     "text": [
      "/Users/rona/anaconda3/lib/python3.7/site-packages/ipykernel_launcher.py:1: RuntimeWarning: invalid value encountered in log\n",
      "  \"\"\"Entry point for launching an IPython kernel.\n"
     ]
    }
   ],
   "source": [
    "c_logre_df=np.log(clean_price_df/clean_price_df.shift())\n"
   ]
  },
  {
   "cell_type": "markdown",
   "metadata": {},
   "source": [
    "## compute mean return, volatility, sharpe ratio and beta \n"
   ]
  },
  {
   "cell_type": "code",
   "execution_count": 22,
   "metadata": {},
   "outputs": [],
   "source": [
    "#rolling window size = 21\n",
    "rolling_m=[]\n",
    "rolling_v=[]\n",
    "for i in c_logre_df.columns:\n",
    "    mean_ro = c_logre_df[i].rolling(21).mean().shift() \n",
    "    std_ro = c_logre_df[i].rolling(21).std(ddof = 0).shift()\n",
    "    #logre[i].pct_change.rolling(21).std().shift()\n",
    "    #pd.rolling_std(logre[i],window=21) * np.sqrt(21)\n",
    "    rolling_m.append(mean_ro)\n",
    "    rolling_v.append(std_ro)\n",
    "\n",
    "rolling_m1 = pd.concat(rolling_m,ignore_index=False,keys=c_logre_df.columns,axis=1)\n",
    "rolling_v1 = pd.concat(rolling_v,ignore_index=False,keys=c_logre_df.columns,axis=1)\n"
   ]
  },
  {
   "cell_type": "code",
   "execution_count": 23,
   "metadata": {},
   "outputs": [],
   "source": [
    "sr=rolling_m1/rolling_v1"
   ]
  },
  {
   "cell_type": "code",
   "execution_count": 24,
   "metadata": {},
   "outputs": [],
   "source": [
    "#assets selection\n",
    "# h=5\n",
    "# m=21\n",
    "# T=2520\n",
    "# num_w=int((T-m)/h)\n",
    "picksharp=[]\n",
    "for i in range(22,sr.shape[0],5):\n",
    "    picksharp.append(sr.iloc[i,:].sort_values(ascending=False)[:30].index)"
   ]
  },
  {
   "cell_type": "code",
   "execution_count": 183,
   "metadata": {},
   "outputs": [
    {
     "data": {
      "text/plain": [
       "500"
      ]
     },
     "execution_count": 183,
     "metadata": {},
     "output_type": "execute_result"
    }
   ],
   "source": [
    "len(picksharp)"
   ]
  },
  {
   "cell_type": "code",
   "execution_count": 32,
   "metadata": {},
   "outputs": [],
   "source": [
    "opt_return=[]\n",
    "opt_weight=[]\n",
    "\n",
    "for num_w in range(len(picksharp)):\n",
    "    daily_return=c_logre_df[picksharp[num_w]].iloc[int(num_w*h):int(m+num_w*h)]\n",
    "    w_return = daily_return.mean()*5\n",
    "    w_cov= daily_return.cov()*5\n",
    "\n",
    "    port_returns = []\n",
    "    port_volatility = []\n",
    "    stock_weights = []\n",
    "    sharpe_ratio = []\n",
    "\n",
    "    num_assets=30\n",
    "    num_portfolios = 20000 \n",
    "    for portfolio in range(num_portfolios):\n",
    "        weights = np.random.random(num_assets)\n",
    "        weights /= np.sum(weights)\n",
    "        returns = np.dot(weights, w_return)\n",
    "        volatility = np.sqrt(np.dot(weights.T, np.dot(w_cov, weights)))\n",
    "        sharp = returns / volatility\n",
    "        stock_weights.append(weights)\n",
    "        port_returns.append(returns)\n",
    "        port_volatility.append(volatility)\n",
    "        sharpe_ratio.append(sharp)\n",
    "    opt_weight.append(stock_weights[sharpe_ratio.index(max(sharpe_ratio))])\n",
    "    opt_return.append(port_returns[sharpe_ratio.index(max(sharpe_ratio))])\n",
    "    "
   ]
  },
  {
   "cell_type": "code",
   "execution_count": 36,
   "metadata": {},
   "outputs": [],
   "source": [
    "cumulative=[]\n",
    "for i in range(len(opt_return)):\n",
    "    cumulative.append(sum(opt_return[0:i+1]))"
   ]
  },
  {
   "cell_type": "code",
   "execution_count": 37,
   "metadata": {},
   "outputs": [],
   "source": [
    "opt_cu_df= pd.DataFrame(cumulative)\n",
    "opt_cu_df.columns = ['cumu_re_opt']"
   ]
  },
  {
   "cell_type": "markdown",
   "metadata": {},
   "source": [
    "## equally weighted"
   ]
  },
  {
   "cell_type": "code",
   "execution_count": 26,
   "metadata": {},
   "outputs": [],
   "source": [
    "h=5\n",
    "m=21\n",
    "weight_eq=np.repeat(1.0/30.0,30)\n",
    "eq_return=[]\n",
    "eq_volatility=[]\n",
    "eq_sharp_ratio=[]\n",
    "for num_w in range(len(picksharp)):\n",
    "    daily_return=c_logre_df[picksharp[num_w]].iloc[int(num_w*h):int(m+num_w*h)]\n",
    "    w_return_eq = daily_return.mean()*5\n",
    "    w_cov_eq= daily_return.cov()*5\n",
    "    returns_eq = np.dot(weight_eq, w_return_eq)\n",
    "    volatility_eq = np.sqrt(np.dot(weight_eq.T, np.dot(w_cov_eq, weight_eq)))\n",
    "    sharp_eq = returns_eq / volatility_eq\n",
    "    eq_return.append(returns_eq)\n",
    "    eq_volatility.append(volatility_eq)\n",
    "    eq_sharp_ratio.append(sharp_eq)"
   ]
  },
  {
   "cell_type": "code",
   "execution_count": 27,
   "metadata": {},
   "outputs": [],
   "source": [
    "eq_return=pd.DataFrame(eq_return)\n",
    "eq_return.columns=['eq_return']\n",
    "eq_return['cusum']=eq_return.eq_return.cumsum(axis = 0)"
   ]
  },
  {
   "cell_type": "code",
   "execution_count": 41,
   "metadata": {},
   "outputs": [],
   "source": [
    "SP500 = pd.read_csv(\"SP500new.csv\", usecols=['Date','Close'],index_col=0) \n",
    "SP500_10 = SP500.loc['2009-04-16':'2019-04-18']"
   ]
  },
  {
   "cell_type": "code",
   "execution_count": 42,
   "metadata": {},
   "outputs": [],
   "source": [
    "SP500_logre=np.log(SP500_10/SP500_10.shift())"
   ]
  },
  {
   "cell_type": "code",
   "execution_count": 49,
   "metadata": {},
   "outputs": [],
   "source": [
    "SP500_logre_rw = SP500_logre.rolling(21).mean().shift() \n",
    "plot_SP500_logre_rw=SP500_logre_rw.iloc[22::5,]*5\n",
    "cumulative_SP500=[]\n",
    "for i in range(len(plot_SP500_logre_rw)):\n",
    "    cumulative_SP500.append(sum(plot_SP500_logre_rw.Close.iloc[0:i+1]))"
   ]
  },
  {
   "cell_type": "code",
   "execution_count": 50,
   "metadata": {},
   "outputs": [
    {
     "data": {
      "text/plain": [
       "<matplotlib.axes._subplots.AxesSubplot at 0x1a23ed860>"
      ]
     },
     "execution_count": 50,
     "metadata": {},
     "output_type": "execute_result"
    },
    {
     "data": {
      "image/png": "[encoded data removed]",
      "text/plain": [
       "<Figure size 432x288 with 1 Axes>"
      ]
     },
     "metadata": {
      "needs_background": "light"
     },
     "output_type": "display_data"
    }
   ],
   "source": [
    "SP500_cu_df= pd.DataFrame(cumulative_SP500)\n",
    "SP500_cu_df.columns = ['cumu_re_SP500']\n",
    "SP500_cu_df.plot()"
   ]
  },
  {
   "cell_type": "code",
   "execution_count": 54,
   "metadata": {
    "scrolled": true
   },
   "outputs": [
    {
     "data": {
      "image/png": "[encoded data removed]",
      "text/plain": [
       "<Figure size 864x432 with 1 Axes>"
      ]
     },
     "metadata": {
      "needs_background": "light"
     },
     "output_type": "display_data"
    }
   ],
   "source": [
    "fig = plt.figure(figsize=(12,6))\n",
    "fig.subplots_adjust(hspace=0.3, wspace=0.4)\n",
    "ax = fig.add_subplot(1, 1, 1)\n",
    "opt_cu_df.cumu_re_opt.plot(ax=ax,label='profolio opt')\n",
    "eq_return['cusum'].plot(ax=ax,label='benchmark equal weight')\n",
    "SP500_cu_df.plot(ax=ax,label='SP500')\n",
    "ax.legend()\n",
    "ax.set_xlabel('rolling window',size=17)\n",
    "ax.set_ylabel('total return',size=17)\n",
    "ax.set_title('Window-Portfolio Return h=5',size=17)\n",
    "ax.tick_params(axis=\"both\", labelsize=13)\n",
    "plt.show()"
   ]
  },
  {
   "cell_type": "markdown",
   "metadata": {},
   "source": [
    "# 6"
   ]
  },
  {
   "cell_type": "code",
   "execution_count": 87,
   "metadata": {},
   "outputs": [],
   "source": [
    "#mean return of windows portfolio, equal weight and SP500\n",
    "mean_return_opt=opt_cu_df.iloc[-1]/len(picksharp)\n",
    "mean_return_eq=eq_return.cusum.iloc[-1]/len(picksharp)\n",
    "mean_return_SP500=SP500_cu_df.iloc[-1]//len(picksharp)"
   ]
  },
  {
   "cell_type": "code",
   "execution_count": 92,
   "metadata": {},
   "outputs": [
    {
     "name": "stdout",
     "output_type": "stream",
     "text": [
      "cumu_re_opt    0.034455\n",
      "Name: 499, dtype: float64\n",
      "0.03617433065053993\n",
      "cumu_re_SP500    0.0\n",
      "Name: 499, dtype: float64\n"
     ]
    }
   ],
   "source": [
    "print(mean_return_opt)"
   ]
  },
  {
   "cell_type": "code",
   "execution_count": 94,
   "metadata": {},
   "outputs": [
    {
     "name": "stdout",
     "output_type": "stream",
     "text": [
      "0.03617433065053993\n"
     ]
    }
   ],
   "source": [
    "print(mean_return_eq)"
   ]
  },
  {
   "cell_type": "code",
   "execution_count": 93,
   "metadata": {},
   "outputs": [
    {
     "name": "stdout",
     "output_type": "stream",
     "text": [
      "cumu_re_SP500    0.0\n",
      "Name: 499, dtype: float64\n"
     ]
    }
   ],
   "source": [
    "print(mean_return_SP500)"
   ]
  },
  {
   "cell_type": "code",
   "execution_count": 88,
   "metadata": {},
   "outputs": [],
   "source": [
    "#Volatility\n",
    "vol_opt=np.std(opt_return)\n",
    "vol_eq=np.std(eq_return.eq_return)\n",
    "vol_SP500=np.std(plot_SP500_logre_rw)"
   ]
  },
  {
   "cell_type": "code",
   "execution_count": 96,
   "metadata": {},
   "outputs": [
    {
     "name": "stdout",
     "output_type": "stream",
     "text": [
      "0.01279577114649222\n"
     ]
    }
   ],
   "source": [
    "print(vol_opt)"
   ]
  },
  {
   "cell_type": "code",
   "execution_count": 97,
   "metadata": {},
   "outputs": [
    {
     "name": "stdout",
     "output_type": "stream",
     "text": [
      "0.012424944116769442\n"
     ]
    }
   ],
   "source": [
    "print(vol_eq)"
   ]
  },
  {
   "cell_type": "code",
   "execution_count": 98,
   "metadata": {},
   "outputs": [
    {
     "name": "stdout",
     "output_type": "stream",
     "text": [
      "Close    0.008929\n",
      "dtype: float64\n"
     ]
    }
   ],
   "source": [
    "print(vol_SP500)"
   ]
  },
  {
   "cell_type": "code",
   "execution_count": 103,
   "metadata": {},
   "outputs": [],
   "source": [
    "#sharp ratio\n",
    "sr_opt=mean_return_opt/np.std(opt_return)\n",
    "sr_eq=mean_return_eq/np.std(eq_return.eq_return)"
   ]
  },
  {
   "cell_type": "code",
   "execution_count": 100,
   "metadata": {},
   "outputs": [
    {
     "name": "stdout",
     "output_type": "stream",
     "text": [
      "cumu_re_opt    2.692689\n",
      "Name: 499, dtype: float64\n"
     ]
    }
   ],
   "source": [
    "print(sr_opt)"
   ]
  },
  {
   "cell_type": "code",
   "execution_count": 101,
   "metadata": {},
   "outputs": [
    {
     "name": "stdout",
     "output_type": "stream",
     "text": [
      "2.9114280362610976\n"
     ]
    }
   ],
   "source": [
    "print(sr_eq)"
   ]
  },
  {
   "cell_type": "code",
   "execution_count": 137,
   "metadata": {},
   "outputs": [],
   "source": [
    "#Sortino Ratio\n",
    "\n",
    "#MAR(MINIMUM ACCEPTABLE RETURN)\n",
    "mar = 0.5\n",
    "\n",
    "def SortinoRatio(returns):\n",
    "    rf = 0\n",
    "    target = 0.5\n",
    "    \n",
    "    expected_return = returns.mean()\n",
    "    down_stdev = np.sqrt(np.abs(returns[returns<0]))\n",
    "    sortino_ratio = (expected_return - rf)/down_stdev\n",
    "    return sortino_ratio"
   ]
  },
  {
   "cell_type": "code",
   "execution_count": 138,
   "metadata": {},
   "outputs": [],
   "source": [
    "sorr_opt=SortinoRatio(np.array(opt_return))\n",
    "sorr_eq=SortinoRatio(np.array(eq_return.eq_return))\n",
    "sorr_SP500=SortinoRatio(np.array(plot_SP500_logre_rw))"
   ]
  },
  {
   "cell_type": "code",
   "execution_count": 76,
   "metadata": {},
   "outputs": [],
   "source": [
    "# Maximum Drawdown\n",
    "def maxdrawdown(cum_return):\n",
    "    xs = cum_return\n",
    "    i = np.argmax(np.maximum.accumulate(xs) - xs) # end of the period\n",
    "    j = np.argmax(xs[:i]) # start of period\n",
    "    return i,j"
   ]
  },
  {
   "cell_type": "code",
   "execution_count": 86,
   "metadata": {},
   "outputs": [],
   "source": [
    "md_opt=maxdrawdown(np.array(opt_return))\n",
    "md_eq=maxdrawdown(np.array(eq_return.eq_return))\n",
    "md_SP500=maxdrawdown(np.array(plot_SP500_logre_rw))"
   ]
  },
  {
   "cell_type": "markdown",
   "metadata": {},
   "source": [
    "## try to pick same stocks for a period of time"
   ]
  },
  {
   "cell_type": "code",
   "execution_count": 123,
   "metadata": {},
   "outputs": [],
   "source": [
    "flat_list = [item for sublist in picksharp for item in sublist]"
   ]
  },
  {
   "cell_type": "code",
   "execution_count": 124,
   "metadata": {},
   "outputs": [],
   "source": [
    "from collections import Counter\n",
    "import operator\n",
    "stockpick = dict(Counter(flat_list))\n",
    "sorted_stockpick=sorted(stockpick.items(), key=operator.itemgetter(1),reverse=True)\n",
    "# sorted_stockpick[:30]"
   ]
  },
  {
   "cell_type": "code",
   "execution_count": 125,
   "metadata": {},
   "outputs": [],
   "source": [
    "stockpick_nam=[]\n",
    "for i in range(30):\n",
    "    stockpick_nam.append(sorted_stockpick[i][0])"
   ]
  },
  {
   "cell_type": "code",
   "execution_count": 126,
   "metadata": {},
   "outputs": [],
   "source": [
    "# pick the rolling mean we need for the prediction segment\n",
    "rolling_estimate_pick=clean_price_df[stockpick_nam].rolling(21).mean()[21::5]"
   ]
  },
  {
   "cell_type": "code",
   "execution_count": 127,
   "metadata": {},
   "outputs": [],
   "source": [
    "#replicate the rolling picked in previous step\n",
    "newrolling_estimate_pick = pd.DataFrame(np.repeat(rolling_estimate_pick.values,5,axis=0))\n",
    "newrolling_estimate_pick.columns = rolling_estimate_pick.columns\n",
    "newrolling_estimate_pick=newrolling_estimate_pick.iloc[:-1]\n",
    "newrolling_estimate_pick.index=clean_price_df.index[21:]"
   ]
  },
  {
   "cell_type": "code",
   "execution_count": 134,
   "metadata": {
    "scrolled": false
   },
   "outputs": [
    {
     "data": {
      "image/png": "[encoded data removed]",
      "text/plain": [
       "<Figure size 864x432 with 1 Axes>"
      ]
     },
     "metadata": {
      "needs_background": "light"
     },
     "output_type": "display_data"
    }
   ],
   "source": [
    "#comparison between observation and rolling-mean estimation\n",
    "fig = plt.figure(figsize=(12,6))\n",
    "fig.subplots_adjust(hspace=0.3, wspace=0.4)\n",
    "ax = fig.add_subplot(1, 1, 1)\n",
    "newrolling_estimate_pick['IIM_adjclose'].plot(kind='line',ax=ax,label='estimation by rolling mean',alpha=0.8)\n",
    "clean_price_df['IIM_adjclose'].plot(ax=ax,label='observation',alpha=0.8)\n",
    "\n",
    "ax.legend()\n",
    "plt.show()"
   ]
  },
  {
   "cell_type": "code",
   "execution_count": 136,
   "metadata": {},
   "outputs": [],
   "source": [
    "# citation:\n",
    "## https://plot.ly/ipython-notebooks/markowitz-portfolio-optimization/\n",
    "## https://davistownsend.github.io/blog/Parallel_ts_fc_Dask/"
   ]
  },
  {
   "cell_type": "code",
   "execution_count": 135,
   "metadata": {},
   "outputs": [],
   "source": [
    "#END"
   ]
  }
 ],
 "metadata": {
  "kernelspec": {
   "display_name": "Python 3",
   "language": "python",
   "name": "python3"
  },
  "language_info": {
   "codemirror_mode": {
    "name": "ipython",
    "version": 3
   },
   "file_extension": ".py",
   "mimetype": "text/x-python",
   "name": "python",
   "nbconvert_exporter": "python",
   "pygments_lexer": "ipython3",
   "version": "3.7.1"
  }
 },
 "nbformat": 4,
 "nbformat_minor": 2
}
